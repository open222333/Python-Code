{
 "cells": [
  {
   "cell_type": "code",
   "execution_count": 1,
   "metadata": {},
   "outputs": [
    {
     "name": "stderr",
     "output_type": "stream",
     "text": [
      "Messagepack is not available, please ensure that msgpack-python library is properly installed.\n"
     ]
    }
   ],
   "source": [
    "from scrapinghub import ScrapinghubClient\n",
    "\n",
    "api_key = ''\n",
    "project_id = ''\n",
    "\n",
    "\n",
    "def get_items(spider_code=None):\n",
    "    '''spider_code: 沒指定，回傳現有全部'''\n",
    "\n",
    "    def get_job_id(key_1: str, key_2: str):\n",
    "        key_1 = key_1.split('/')\n",
    "        key_2 = key_2.split('/')\n",
    "        num = max(key_1[2], key_2[2])\n",
    "        job_key = f'{key_1[0]}/{key_1[1]}/{num}'\n",
    "        return job_key\n",
    "\n",
    "    client = ScrapinghubClient(api_key)\n",
    "    jobs = client.get_project(project_id).jobs.iter()\n",
    "\n",
    "    target = {}\n",
    "    for job in jobs:\n",
    "\n",
    "        if spider_code != None:\n",
    "            target[spider_code] = ''\n",
    "\n",
    "        if job['spider'] in target:\n",
    "            key_1 = target[job['spider']]\n",
    "            key_2 = job['key']\n",
    "            target[job['spider']] = get_job_id(key_1, key_2)\n",
    "        else:\n",
    "            if spider_code == None:\n",
    "                target[job['spider']] = job['key']\n",
    "            else:\n",
    "                pass\n",
    "\n",
    "    data = {}\n",
    "    for spider, job_key in target.items():\n",
    "        items = client.get_job(job_key).items.list()\n",
    "        data[spider] = items\n",
    "\n",
    "    return data\n",
    "\n",
    "\n",
    "datas = get_items()\n"
   ]
  }
 ],
 "metadata": {
  "interpreter": {
   "hash": "f218ffc4bf720b7842671fd109c33a8a280d742bbd0bcee965407e1775701d00"
  },
  "kernelspec": {
   "display_name": "Python 3.6.13 64-bit ('py36': conda)",
   "language": "python",
   "name": "python3"
  },
  "language_info": {
   "codemirror_mode": {
    "name": "ipython",
    "version": 3
   },
   "file_extension": ".py",
   "mimetype": "text/x-python",
   "name": "python",
   "nbconvert_exporter": "python",
   "pygments_lexer": "ipython3",
   "version": "3.6.13"
  },
  "orig_nbformat": 4
 },
 "nbformat": 4,
 "nbformat_minor": 2
}

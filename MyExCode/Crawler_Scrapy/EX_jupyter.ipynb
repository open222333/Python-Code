{
 "cells": [
  {
   "cell_type": "code",
   "execution_count": null,
   "metadata": {},
   "outputs": [
    {
     "ename": "",
     "evalue": "",
     "output_type": "error",
     "traceback": [
      "\u001b[1;31mThe kernel failed to start as the module 'generator_to_async_generator' could not be imported. \n",
      "View Jupyter <a href='command:jupyter.viewOutput'>log</a> for further details.\n",
      "<a href='https://aka.ms/kernelFailuresModuleImportErr'>Learn more</a>"
     ]
    }
   ],
   "source": [
    "import scrapy\n",
    "from bs4 import BeautifulSoup\n",
    "from scrapy_splash import SplashRequest\n",
    "from scrapy.crawler import CrawlerProcess\n",
    "\n",
    "class P4Spider(scrapy.Spider):\n",
    "    name = 'P4'\n",
    "    start_urls = ['http://xxxyed.com/']\n",
    "\n",
    "    def __init__(self, pages=5, wait_sec=30):\n",
    "        self.pages = int(pages)\n",
    "        self.wait_sec = int(wait_sec)\n",
    "\n",
    "    def start_requests(self):\n",
    "        start_urls = []\n",
    "        for url in start_urls:\n",
    "            yield SplashRequest(\n",
    "                url=url,\n",
    "                callback=self.parse,\n",
    "                args={'wait': self.wait_sec}\n",
    "            )\n",
    "\n",
    "    def parse(self, response):\n",
    "        soup = BeautifulSoup(response.body, 'lxml')\n",
    "\n",
    "        print(soup.text)\n",
    "\n",
    "\n",
    "process = CrawlerProcess({\n",
    "    'USER_AGENT': 'Mozilla/4.0 (compatible; MSIE 7.0; Windows NT 5.1)'\n",
    "})\n",
    "process.crawl('P4')\n",
    "process.start() # the script will block here until the crawling is finished"
   ]
  }
 ],
 "metadata": {
  "interpreter": {
   "hash": "f218ffc4bf720b7842671fd109c33a8a280d742bbd0bcee965407e1775701d00"
  },
  "kernelspec": {
   "display_name": "Python 3.6.13 64-bit ('py36': conda)",
   "language": "python",
   "name": "python3"
  },
  "language_info": {
   "name": "python",
   "version": "3.6.13"
  },
  "orig_nbformat": 4
 },
 "nbformat": 4,
 "nbformat_minor": 2
}

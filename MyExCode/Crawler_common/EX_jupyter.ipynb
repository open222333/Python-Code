{
 "cells": [
  {
   "cell_type": "code",
   "execution_count": null,
   "metadata": {},
   "outputs": [
    {
     "ename": "",
     "evalue": "",
     "output_type": "error",
     "traceback": [
      "\u001b[1;31mThe kernel failed to start as the module 'secure_write' could not be imported. \n",
      "View Jupyter <a href='command:jupyter.viewOutput'>log</a> for further details.\n",
      "<a href='https://aka.ms/kernelFailuresModuleImportErr'>Learn more</a>"
     ]
    }
   ],
   "source": [
    "import requests\n",
    "\n",
    "\n",
    "url = 'https://code.visualstudio.com/'\n",
    "response = requests.get(url)"
   ]
  }
 ],
 "metadata": {
  "interpreter": {
   "hash": "f218ffc4bf720b7842671fd109c33a8a280d742bbd0bcee965407e1775701d00"
  },
  "kernelspec": {
   "display_name": "Python 3.6.13 64-bit ('py36': conda)",
   "language": "python",
   "name": "python3"
  },
  "language_info": {
   "name": "python",
   "version": "3.6.13"
  },
  "orig_nbformat": 4
 },
 "nbformat": 4,
 "nbformat_minor": 2
}

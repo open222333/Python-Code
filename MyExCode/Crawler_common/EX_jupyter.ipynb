{
 "cells": [
  {
   "cell_type": "code",
   "execution_count": 4,
   "metadata": {},
   "outputs": [],
   "source": [
    "from bs4 import BeautifulSoup\n",
    "import requests\n",
    "\n",
    "\n",
    "url = 'https://xxxyed.com/page/2/'\n",
    "response = requests.get(url)\n",
    "\n",
    "soup = BeautifulSoup(response.text, 'lxml')\n",
    "videos = soup.select('#main > div.videos-list > article.loop-video')\n",
    "for video in videos:\n",
    "    print(video.select_one('a'))\n",
    "    "
   ]
  }
 ],
 "metadata": {
  "interpreter": {
   "hash": "f218ffc4bf720b7842671fd109c33a8a280d742bbd0bcee965407e1775701d00"
  },
  "kernelspec": {
   "display_name": "Python 3.6.13 64-bit ('py36': conda)",
   "language": "python",
   "name": "python3"
  },
  "language_info": {
   "codemirror_mode": {
    "name": "ipython",
    "version": 3
   },
   "file_extension": ".py",
   "mimetype": "text/x-python",
   "name": "python",
   "nbconvert_exporter": "python",
   "pygments_lexer": "ipython3",
   "version": "3.6.13"
  },
  "orig_nbformat": 4
 },
 "nbformat": 4,
 "nbformat_minor": 2
}

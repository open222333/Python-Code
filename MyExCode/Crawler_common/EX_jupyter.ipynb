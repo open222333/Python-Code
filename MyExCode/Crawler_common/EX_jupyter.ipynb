{
 "cells": [
  {
   "cell_type": "code",
   "execution_count": 7,
   "metadata": {},
   "outputs": [],
   "source": [
    "import requests\n"
   ]
  },
  {
   "cell_type": "code",
   "execution_count": null,
   "metadata": {},
   "outputs": [],
   "source": [
    "from bs4 import BeautifulSoup\n",
    "from fake_useragent import FakeUserAgent\n",
    "\n",
    "datas = []\n",
    "\n",
    "url = 'https://xxxyed.com/%e0%b8%ab%e0%b8%99%e0%b8%b1%e0%b8%87%e0%b9%82%e0%b8%9b%e0%b9%8a-%e0%b8%ad%e0%b8%b2%e0%b8%9a%e0%b8%99%e0%b9%89%e0%b8%b3%e0%b8%ad%e0%b8%a2%e0%b8%b9%e0%b9%88%e0%b8%94%e0%b8%b5%e0%b9%86%e0%b9%81%e0%b8%9f/'\n",
    "ua = FakeUserAgent().google\n",
    "response = requests.get(url, headers={'user-agent': ua})\n",
    "\n",
    "# 爬取tags資訊\n",
    "soup = BeautifulSoup(response.text, 'lxml')\n",
    "tags = soup.select('#video-about > div.tags > div.tags-list > a')\n",
    "for tag in tags:\n",
    "    tag = tag.attrs['title']\n",
    "    break"
   ]
  }
 ],
 "metadata": {
  "interpreter": {
   "hash": "f218ffc4bf720b7842671fd109c33a8a280d742bbd0bcee965407e1775701d00"
  },
  "kernelspec": {
   "display_name": "Python 3.6.13 64-bit ('py36': conda)",
   "language": "python",
   "name": "python3"
  },
  "language_info": {
   "codemirror_mode": {
    "name": "ipython",
    "version": 3
   },
   "file_extension": ".py",
   "mimetype": "text/x-python",
   "name": "python",
   "nbconvert_exporter": "python",
   "pygments_lexer": "ipython3",
   "version": "3.6.13"
  },
  "orig_nbformat": 4
 },
 "nbformat": 4,
 "nbformat_minor": 2
}
